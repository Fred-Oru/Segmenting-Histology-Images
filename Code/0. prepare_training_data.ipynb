{
 "cells": [
  {
   "cell_type": "markdown",
   "metadata": {},
   "source": [
    "# Tools to prepare Training Data (from raw data)"
   ]
  },
  {
   "cell_type": "markdown",
   "metadata": {},
   "source": [
    "Raw Training Data are delivered in a folder containing\n",
    "* images in format .jpg \n",
    "* zipped .roi files\n",
    "\n",
    "For each image there is a corresponding zip file, containing several .roi files.\n",
    "A .roi file is a contour created by a biologist by using Fiji.\n",
    "\n",
    "Mask R-CNN model is expecting a binary mask instead of a .roi. \n",
    "This notebook is a set of tools you can use to convert ROI into MASKS, output in neat folders, and control the result.\n",
    "\n",
    "The output folder architecture is the following : \n",
    "* glomerulus/train/\n",
    "    * ImageID/\n",
    "        * images/ -> contains the image in jpg format\n",
    "        * masks/  -> contains the image's masks in png format\n",
    "        * roi/    -> original rois"
   ]
  },
  {
   "cell_type": "markdown",
   "metadata": {},
   "source": [
    "## FOLDERS"
   ]
  },
  {
   "cell_type": "code",
   "execution_count": 1,
   "metadata": {},
   "outputs": [],
   "source": [
    "import os\n",
    "import shutil\n",
    "import stat\n",
    "ROOT_FOLDER = \"C:/Users/Fred/FRED_PRO/8. JEDHA/Projets/Nath - ROI detection/_GIT_Segmenting-Histology-Images\"\n",
    "IMG_FOLDER = os.path.join(ROOT_FOLDER,\"Data/Images with ROI\")\n",
    "ROI_FOLDER = os.path.join(IMG_FOLDER, 'ROI')\n",
    "ROI_unzipped_FOLDER = os.path.join(IMG_FOLDER, 'ROI_unzipped')\n",
    "MASK_FOLDER = os.path.join(IMG_FOLDER, 'Masks')\n",
    "TEMP =  os.path.join(IMG_FOLDER, 'temp')\n",
    "DATASET_FOLDER = os.path.join(ROOT_FOLDER,\"Data/glomerulus/train\")"
   ]
  },
  {
   "cell_type": "markdown",
   "metadata": {},
   "source": [
    "For each image \"ImgName.jpg\" there is a corresponding \"ZipName.zip\" file, containing several .roi files. <br>\n",
    "For instance \"**R22** VEGF 2_15.0x**C1**.jpg\" has a corresponding \"RoiSet**R22C1**.zip\" <br>\n",
    "The names of the .roi files inside the .zip file is composed of seamingly random figures, like 0075-1108 <br>\n",
    "The following function creates a subfolder \"ROI_unzipped\", containing all .roi files, renamed as 'ImgName_RoiName.roi' <br> \n",
    "(ex: R22 VEGF 2_15.0xC1_0075-1108.roi). \n"
   ]
  },
  {
   "cell_type": "code",
   "execution_count": 2,
   "metadata": {},
   "outputs": [],
   "source": [
    "def fresh_start(folder):\n",
    "    \"\"\"\n",
    "    If the unzip folder exists, delete and recreate empty \n",
    "    \"\"\"\n",
    "    if os.path.isdir(folder): \n",
    "        os.chmod(folder,stat.S_IWRITE) # authorize modification so that we can delete the folder\n",
    "        shutil.rmtree(folder)          # delete folder and its content\n",
    "    os.mkdir(folder,stat.S_IWRITE) # recreate empty"
   ]
  },
  {
   "cell_type": "markdown",
   "metadata": {},
   "source": [
    "## UNZIP ROIs"
   ]
  },
  {
   "cell_type": "code",
   "execution_count": 75,
   "metadata": {},
   "outputs": [],
   "source": [
    "fresh_start(ROI_unzipped_FOLDER)"
   ]
  },
  {
   "cell_type": "code",
   "execution_count": 78,
   "metadata": {},
   "outputs": [],
   "source": [
    "# Unzip Roi Files from the ROI_FOLDER to the ROI_unzipped_FOLDER\n",
    "import zipfile\n",
    "files=os.listdir(IMG_FOLDER)\n",
    "fresh_start(TEMP)\n",
    "for img in files:\n",
    "    if img.endswith('.jpg'):\n",
    "        zip_name = 'ROISet'+ img[0:3] + img[-6:-4] + '.zip'\n",
    "        with zipfile.ZipFile(ROI_FOLDER+'/'+zip_name,\"r\") as zip_ref:\n",
    "            zip_ref.extractall(TEMP)\n",
    "        for file in os.listdir(TEMP):\n",
    "            if file.endswith('.roi'):\n",
    "                filename = img[0:-4] +'_' + file # img_name without .jpg + '_' + current name\n",
    "                os.rename(os.path.join(TEMP,file),os.path.join(TEMP,filename))\n",
    "            shutil.move(os.path.join(TEMP,filename), os.path.join(ROI_unzipped_FOLDER,filename))"
   ]
  },
  {
   "cell_type": "markdown",
   "metadata": {},
   "source": [
    "## CONVERT ROIS TO MASKS"
   ]
  },
  {
   "cell_type": "markdown",
   "metadata": {},
   "source": [
    "We convert .roi into masks in three steps\n",
    "1. read .roi file with the package https://pypi.org/project/read-roi/ \n",
    "2. convert into the opencv object 'contour'\n",
    "3. us opencv function to fill in the contour \n",
    "4. export as a binary mask (actually png with black and white pixels)"
   ]
  },
  {
   "cell_type": "markdown",
   "metadata": {},
   "source": [
    "The structure of roi is a dict with two levels :\n",
    "\n",
    "* level 1 : just one key, the name of the file without extension\n",
    "* level 2 : the interesting informations\n",
    "    * type : 'freehand' - this means that the roi was drawn with mouse or pad. There are other ways, like geometric shapes. Normally all the roi in the dataset should be freehand style => worth checking\n",
    "    * x, y : pixel coordinates\n",
    "    * n : number of pixels\n",
    "    * width : 0 ( ? check what it means)\n",
    "    * name : name of the file without extension\n",
    "    * position : 0 ( ? check what it means)"
   ]
  },
  {
   "cell_type": "code",
   "execution_count": 3,
   "metadata": {},
   "outputs": [],
   "source": [
    "import cv2\n",
    "import numpy as np\n",
    "from read_roi import read_roi_file\n",
    "\n",
    "def fill_contour(cnt,img_shape):\n",
    "    '''\n",
    "        takes a contour and an image shape\n",
    "        return a black and white image with the countour filled in white\n",
    "    '''\n",
    "    img = np.zeros(img_shape, np.uint8)  # Create a black image\n",
    "    cv2.drawContours(img, [cnt], 0, (255,255,255), -1)  # Draw countour and fill it (meaning of -1)\n",
    "    return img\n",
    "\n",
    "def roi2mask(roi_path,img_size):\n",
    "    '''\n",
    "        takes roi_path and returns a mask file\n",
    "    '''\n",
    "    roi = read_roi_file(roi_path)\n",
    "    for roi_name in roi:\n",
    "        cnt = np.array([[[x,y]] for (x,y) in zip(roi[roi_name]['x'],roi[roi_name]['y'])])\n",
    "        mask = fill_contour(cnt,img_shape)\n",
    "    return mask"
   ]
  },
  {
   "cell_type": "code",
   "execution_count": 4,
   "metadata": {},
   "outputs": [],
   "source": [
    "def generate_masks(img_id,img_shape):\n",
    "    \"\"\"\n",
    "    looks for all rois associated wiht img_id in the ROI_unzipped_FOLDER\n",
    "    converts as masks\n",
    "    saves them as png in the MASKS_FOLDER\n",
    "    \"\"\"\n",
    "    rois=os.listdir(ROI_unzipped_FOLDER)\n",
    "    for roi_name in rois:\n",
    "        if roi_name.startswith(img_id): \n",
    "            roi_path = os.path.join(ROI_unzipped_FOLDER,roi_name)\n",
    "            mask = roi2mask(roi_path,img_shape)\n",
    "            mask_name = roi_name[0:-4]+'.png'\n",
    "            cv2.imwrite(os.path.join(MASK_FOLDER,mask_name), mask) # PNG format mandatory to avoid compression loss like with jpg"
   ]
  },
  {
   "cell_type": "code",
   "execution_count": 6,
   "metadata": {},
   "outputs": [],
   "source": [
    "# generate masks for all images in IMG_FOLDER\n",
    "import skimage.io\n",
    "fresh_start(MASKS)\n",
    "images=os.listdir(IMG_FOLDER)\n",
    "for image in images:\n",
    "    if image.endswith('.jpg'):\n",
    "        img_id = image[0:-4]\n",
    "        img_shape = skimage.io.imread(os.path.join(IMG_FOLDER,image)).shape\n",
    "        generate_masks(img_id,img_shape)"
   ]
  },
  {
   "cell_type": "markdown",
   "metadata": {},
   "source": [
    "## SANITY CHECK : GENERATE IMAGES WITH MASKS"
   ]
  },
  {
   "cell_type": "markdown",
   "metadata": {},
   "source": [
    "We generate images with superposed roi and masks, in order to check the result is consistent <br>\n",
    "(I was not sure the contour filling would always work, since many contours were not properly closed)"
   ]
  },
  {
   "cell_type": "code",
   "execution_count": 34,
   "metadata": {},
   "outputs": [],
   "source": [
    "import skimage.io\n",
    "import matplotlib.pyplot as plt\n",
    "from read_roi import read_roi_file\n",
    "\n",
    "def generate_image_with_masks(img_name):\n",
    "    img_id = img_name[0:-4]\n",
    "    img_read = skimage.io.imread(os.path.join(IMG_FOLDER,img_name))\n",
    "    img_shape = img_read.shape\n",
    "    plt.figure(figsize=(20,11))\n",
    "    plt.imshow(img_read)\n",
    "\n",
    "    # Read and display Rois\n",
    "    rois=os.listdir(ROI_unzipped_FOLDER)\n",
    "    img_rois = [roi for roi in rois if (roi.endswith('.roi') and roi.startswith(img_id))]\n",
    "    for roi in img_rois:\n",
    "        roi = read_roi_file(os.path.join(ROI_unzipped_FOLDER,roi))\n",
    "        for name in roi:\n",
    "            x_roi = roi[name]['x']\n",
    "            y_roi = roi[name]['y']\n",
    "        plt.plot(x_roi,y_roi,color='red')\n",
    "\n",
    "    # Read and display Masks\n",
    "    masks=os.listdir(MASK_FOLDER)\n",
    "    img_masks = [mask for mask in masks if (mask.endswith('.png') and mask.startswith(img_id))]\n",
    "    mask_sum=0\n",
    "    for mask in img_masks:\n",
    "        mask_read = skimage.io.imread(os.path.join(MASK_FOLDER,mask))\n",
    "        mask_sum += mask_read \n",
    "        # NB : we should use 'max' instead of 'sum', for the case of overlapping masks\n",
    "        # ex : 255 + 255 -> 254 with uint8\n",
    "        # However, there are few cases and it won't be noticeable on the output images\n",
    "        # It's enough for visual inspection but should be corrected for further computations\n",
    "    plt.imshow(mask_sum, alpha=0.5) \n",
    "    \n",
    "    # Save in TEMP/\n",
    "    plt.savefig(os.path.join(os.path.join(TEMP,img_id+'_with_rois.jpg')), dpi=96)\n",
    "    plt.close()\n"
   ]
  },
  {
   "cell_type": "code",
   "execution_count": null,
   "metadata": {
    "scrolled": false
   },
   "outputs": [],
   "source": [
    "images=os.listdir(IMG_FOLDER)\n",
    "for image in images:\n",
    "    if image.endswith('.jpg'):\n",
    "        generate_image_with_masks(image)"
   ]
  },
  {
   "cell_type": "markdown",
   "metadata": {},
   "source": [
    "## POPULATE OUTPUT FOLDER"
   ]
  },
  {
   "cell_type": "code",
   "execution_count": 39,
   "metadata": {
    "collapsed": true
   },
   "outputs": [
    {
     "name": "stdout",
     "output_type": "stream",
     "text": [
      "R22 VEGF 2_15.0xC1\n",
      "R22 VEGF 2_15.0xC2\n",
      "R22 VEGF 2_15.0xC3\n",
      "R22 VEGF 2_15.0xC4\n",
      "R22 VEGF 2_15.0xC5\n",
      "R24 VEGF_15.0xC1\n",
      "R24 VEGF_15.0xC2\n",
      "R24 VEGF_15.0xC3\n",
      "R24 VEGF_15.0xC4\n",
      "R24 VEGF_15.0xC5\n",
      "R25 VEGF_15.0xC1\n",
      "R25 VEGF_15.0xC2\n",
      "R25 VEGF_15.0xC3\n",
      "R25 VEGF_15.0xC4\n",
      "R25 VEGF_15.0xC5\n",
      "R27 VEGF 2_15.0xC1\n",
      "R27 VEGF 2_15.0xC2\n",
      "R27 VEGF 2_15.0xC3\n",
      "R27 VEGF 2_15.0xC4\n",
      "R27 VEGF 2_15.0xC5\n",
      "R27 VEGF 2_15.0xC6\n",
      "R29 VEGF 2_15.0xC1\n",
      "R29 VEGF 2_15.0xC2\n",
      "R29 VEGF 2_15.0xC3\n",
      "R29 VEGF 2_15.0xC4\n",
      "R30 RD VEGF_15.0xC1\n",
      "R30 RD VEGF_15.0xC2\n",
      "R30 RD VEGF_15.0xC3\n",
      "R30 RD VEGF_15.0xC4\n",
      "R30 RD VEGF_15.0xC5\n",
      "R31 RD VEGF_15.0xC1\n",
      "R31 RD VEGF_15.0xC2\n",
      "R31 RD VEGF_15.0xC3\n",
      "R31 RD VEGF_15.0xC4\n",
      "R32 RG VEGF_15.0xC1\n",
      "R32 RG VEGF_15.0xC2\n",
      "R32 RG VEGF_15.0xC3\n",
      "R32 RG VEGF_15.0xC4\n",
      "R32 RG VEGF_15.0xC5\n",
      "R33 RD VEGF_15.0xC1\n",
      "R33 RD VEGF_15.0xC2\n",
      "R33 RD VEGF_15.0xC3\n",
      "R33 RD VEGF_15.0xC4\n",
      "R33 RD VEGF_15.0xC5\n",
      "R33 RD VEGF_15.0xC6\n",
      "R33 RD VEGF_15.0xC7\n",
      "R33 RD VEGF_15.0xC8\n",
      "R33 RD VEGF_15.0xC9\n",
      "R34 RD VEGF_15.0xC1\n",
      "R34 RD VEGF_15.0xC2\n",
      "R34 RD VEGF_15.0xC3\n",
      "R34 RD VEGF_15.0xC4\n",
      "R34 RD VEGF_15.0xC5\n",
      "R34 RD VEGF_15.0xC6\n",
      "R34 RD VEGF_15.0xC7\n",
      "R34 RD VEGF_15.0xC8\n",
      "R35 RD VEGF_15.0xC1\n",
      "R35 RD VEGF_15.0xC2\n",
      "R35 RD VEGF_15.0xC3\n",
      "R35 RD VEGF_15.0xC4\n",
      "R35 RD VEGF_15.0xC5\n",
      "R35 RD VEGF_15.0xC6\n",
      "R35 RD VEGF_15.0xC7\n",
      "R35 RD VEGF_15.0xC8\n",
      "R35 RD VEGF_15.0xC9\n",
      "R37 RD VEGF_15.0xC1\n",
      "R37 RD VEGF_15.0xC2\n",
      "R37 RD VEGF_15.0xC3\n",
      "R37 RD VEGF_15.0xC4\n",
      "R37 RD VEGF_15.0xC5\n",
      "R38 RD VEGF_15.0xC1\n",
      "R38 RD VEGF_15.0xC2\n",
      "R38 RD VEGF_15.0xC3\n",
      "R38 RD VEGF_15.0xC4\n",
      "R38 RD VEGF_15.0xC5\n",
      "R39 RD VEGF_15.0xC1\n",
      "R39 RD VEGF_15.0xC2\n",
      "R39 RD VEGF_15.0xC3\n",
      "R39 RD VEGF_15.0xC4\n",
      "R39 RD VEGF_15.0xC5\n",
      "R40 RD VEGF_15.0xC1\n",
      "R40 RD VEGF_15.0xC2\n",
      "R40 RD VEGF_15.0xC3\n",
      "R40 RD VEGF_15.0xC4\n",
      "R40 RD VEGF_15.0xC5\n",
      "R41 RD VEGF_15.0xC1\n",
      "R41 RD VEGF_15.0xC2\n",
      "R41 RD VEGF_15.0xC3\n",
      "R41 RD VEGF_15.0xC4\n",
      "R41 RD VEGF_15.0xC5\n",
      "R42 RD VEGF_15.0xC1\n",
      "R42 RD VEGF_15.0xC2\n",
      "R42 RD VEGF_15.0xC3\n",
      "R42 RD VEGF_15.0xC4\n",
      "R42 RD VEGF_15.0xC5\n",
      "R42 RD VEGF_15.0xC6\n",
      "R42 RD VEGF_15.0xC7\n",
      "R43 RD VEGF_15.0xC1\n",
      "R43 RD VEGF_15.0xC2\n",
      "R43 RD VEGF_15.0xC3\n",
      "R43 RD VEGF_15.0xC4\n",
      "R43 RD VEGF_15.0xC5\n",
      "R43 RD VEGF_15.0xC6\n",
      "R43 RD VEGF_15.0xC7\n",
      "R44 RD VEGF_15.0xC1\n",
      "R44 RD VEGF_15.0xC2\n",
      "R44 RD VEGF_15.0xC3\n",
      "R44 RD VEGF_15.0xC4\n",
      "R44 RD VEGF_15.0xC5\n",
      "R44 RD VEGF_15.0xC6\n",
      "R44 RD VEGF_15.0xC7\n",
      "R45 RD VEGF_15.0xC1\n",
      "R45 RD VEGF_15.0xC2\n",
      "R45 RD VEGF_15.0xC3\n",
      "R45 RD VEGF_15.0xC4\n",
      "R45 RD VEGF_15.0xC5\n",
      "R45 RD VEGF_15.0xC6\n",
      "R45 RD VEGF_15.0xC7\n",
      "R46 RD VEGF_15.0xC1\n",
      "R46 RD VEGF_15.0xC2\n",
      "R46 RD VEGF_15.0xC3\n",
      "R46 RD VEGF_15.0xC4\n",
      "R46 RD VEGF_15.0xC5\n",
      "R46 RD VEGF_15.0xC6\n",
      "R46 RD VEGF_15.0xC7\n",
      "R47 RD VEGF_15.0xC1\n",
      "R47 RD VEGF_15.0xC2\n",
      "R47 RD VEGF_15.0xC3\n",
      "R47 RD VEGF_15.0xC4\n",
      "R47 RD VEGF_15.0xC5\n",
      "R47 RD VEGF_15.0xC6\n",
      "R47 RD VEGF_15.0xC7\n",
      "R48 RD VEGF bas_15.0xC1\n",
      "R48 RD VEGF bas_15.0xC2\n",
      "R48 RD VEGF bas_15.0xC3\n",
      "R48 RD VEGF bas_15.0xC4\n",
      "R48 RD VEGF_15.0xC5\n",
      "R48 RD VEGF_15.0xC6\n",
      "R48 RD VEGF_15.0xC7\n",
      "R50 RD VEGF_15.0xC1\n",
      "R50 RD VEGF_15.0xC2\n",
      "R50 RD VEGF_15.0xC3\n",
      "R50 RD VEGF_15.0xC4\n",
      "R50 RD VEGF_15.0xC5\n",
      "R51 RD VEGF bas_15.0xC1\n",
      "R51 RD VEGF bas_15.0xC2\n",
      "R51 RD VEGF bas_15.0xC3\n",
      "R51 RD VEGF bas_15.0xC4\n",
      "R51 RD VEGF_15.0xC5\n",
      "R51 RD VEGF_15.0xC6\n",
      "R51 RD VEGF_15.0xC7\n",
      "R52 RD VEGF_15.0xC1\n",
      "R52 RD VEGF_15.0xC2\n",
      "R52 RD VEGF_15.0xC3\n",
      "R52 RD VEGF_15.0xC4\n",
      "R52 RD VEGF_15.0xC5\n",
      "R52 RD VEGF_15.0xC6\n",
      "R52 RD VEGF_15.0xC7\n",
      "R53 RD VEGF_15.0xC1\n",
      "R53 RD VEGF_15.0xC2\n",
      "R53 RD VEGF_15.0xC3\n",
      "R53 RD VEGF_15.0xC4\n",
      "R53 RD VEGF_15.0xC5\n",
      "R53 RD VEGF_15.0xC6\n",
      "R53 RD VEGF_15.0xC7\n",
      "R54 RD VEGF_15.0xC1\n",
      "R54 RD VEGF_15.0xC2\n",
      "R54 RD VEGF_15.0xC3\n",
      "R54 RD VEGF_15.0xC4\n",
      "R54 RD VEGF_15.0xC5\n",
      "R54 RD VEGF_15.0xC6\n",
      "R54 RD VEGF_15.0xC7\n",
      "R55 RD VEGF_15.0xC1\n",
      "R55 RD VEGF_15.0xC2\n",
      "R55 RD VEGF_15.0xC3\n",
      "R55 RD VEGF_15.0xC4\n",
      "R55 RD VEGF_15.0xC5\n",
      "R55 RD VEGF_15.0xC6\n",
      "R55 RD VEGF_15.0xC7\n",
      "R56 RD VEGF_15.0xC1\n",
      "R56 RD VEGF_15.0xC2\n",
      "R56 RD VEGF_15.0xC3\n",
      "R56 RD VEGF_15.0xC4\n",
      "R56 RD VEGF_15.0xC5\n",
      "R56 RD VEGF_15.0xC6\n",
      "R56 RD VEGF_15.0xC7\n",
      "R57 RD VEGF_15.0xC1\n",
      "R57 RD VEGF_15.0xC2\n",
      "R57 RD VEGF_15.0xC3\n",
      "R57 RD VEGF_15.0xC4\n",
      "R57 RD VEGF_15.0xC5\n",
      "R57 RD VEGF_15.0xC6\n",
      "R57 RD VEGF_15.0xC7\n",
      "R63 RD VEGF_15.0xC1\n",
      "R63 RD VEGF_15.0xC2\n",
      "R63 RD VEGF_15.0xC3\n",
      "R63 RD VEGF_15.0xC4\n",
      "R63 RD VEGF_15.0xC5\n",
      "R63 RD VEGF_15.0xC6\n",
      "R63 RD VEGF_15.0xC7\n"
     ]
    }
   ],
   "source": [
    "images=os.listdir(IMG_FOLDER)\n",
    "rois=os.listdir(ROI_unzipped_FOLDER)\n",
    "masks=os.listdir(MASK_FOLDER)\n",
    "\n",
    "for image in images:\n",
    "    if image.endswith('.jpg'):\n",
    "        img_id = image[0:-4]\n",
    "        print(img_id)\n",
    "        \n",
    "        # folder architecture creation\n",
    "        image_folder = os.path.join(DATASET_FOLDER, img_id)\n",
    "        images_subfolder = os.path.join(image_folder,'images')\n",
    "        rois_subfolder = os.path.join(image_folder,'rois')\n",
    "        masks_subfolder = os.path.join(image_folder,'masks')\n",
    "        os.mkdir(image_folder,stat.S_IWRITE)\n",
    "        os.mkdir(images_subfolder,stat.S_IWRITE)\n",
    "        os.mkdir(rois_subfolder,stat.S_IWRITE)\n",
    "        os.mkdir(masks_subfolder,stat.S_IWRITE)\n",
    "        \n",
    "        # moving files\n",
    "        os.rename(os.path.join(IMG_FOLDER,image),os.path.join(images_subfolder,image))\n",
    "        for roi in rois:\n",
    "            if (roi.endswith('.roi') and roi.startswith(img_id)):\n",
    "                os.rename(os.path.join(ROI_unzipped_FOLDER,roi),os.path.join(rois_subfolder,roi))\n",
    "        for mask in masks:\n",
    "            if (mask.endswith('.png') and mask.startswith(img_id)):\n",
    "                os.rename(os.path.join(MASK_FOLDER,mask),os.path.join(masks_subfolder,mask))\n",
    "        "
   ]
  },
  {
   "cell_type": "markdown",
   "metadata": {},
   "source": [
    "# compute MEAN_PIXEL constant"
   ]
  },
  {
   "cell_type": "code",
   "execution_count": 32,
   "metadata": {},
   "outputs": [
    {
     "data": {
      "text/plain": [
       "[209.92926586595058, 203.35202129297485, 204.79692678635834]"
      ]
     },
     "execution_count": 32,
     "metadata": {},
     "output_type": "execute_result"
    }
   ],
   "source": [
    "import skimage.io\n",
    "import numpy as np\n",
    "\n",
    "means_pixel = []\n",
    "IMG_FOLDER = \"C:/Users/Fred/Downloads/Images with ROI\"\n",
    "images=os.listdir(IMG_FOLDER)\n",
    "for image in images:\n",
    "    if image.endswith('.jpg'):\n",
    "        img_read = skimage.io.imread(os.path.join(IMG_FOLDER,image))\n",
    "        rgb_mean = [img_read[:,:,0].mean(), img_read[:,:,1].mean(), img_read[:,:,2].mean()]\n",
    "        means_pixel.append(rgb_mean)  \n",
    "means_pixel = np.array(means_pixel)\n",
    "mean_pixel = [means_pixel[:,0].mean(), means_pixel[:,1].mean(), means_pixel[:,2].mean()]\n",
    "mean_pixel"
   ]
  }
 ],
 "metadata": {
  "kernelspec": {
   "display_name": "Python 3",
   "language": "python",
   "name": "python3"
  },
  "language_info": {
   "codemirror_mode": {
    "name": "ipython",
    "version": 3
   },
   "file_extension": ".py",
   "mimetype": "text/x-python",
   "name": "python",
   "nbconvert_exporter": "python",
   "pygments_lexer": "ipython3",
   "version": "3.6.9"
  }
 },
 "nbformat": 4,
 "nbformat_minor": 2
}
