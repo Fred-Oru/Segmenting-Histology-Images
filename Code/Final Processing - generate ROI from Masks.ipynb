{
 "cells": [
  {
   "cell_type": "markdown",
   "metadata": {},
   "source": [
    "# Functions to transform the output of the model (masks) into .roi files"
   ]
  },
  {
   "cell_type": "code",
   "execution_count": 14,
   "metadata": {},
   "outputs": [],
   "source": [
    "import cv2 \n",
    "\n",
    "def contour_from_mask(mask):\n",
    "    # cv2.findContours only works on binary image, hence the following two lines\n",
    "#     imgray = cv2.cvtColor(mask, cv2.COLOR_BGR2GRAY) \n",
    "#     _, thresh = cv2.threshold(imgray, 100, 255, 0)\n",
    "    thresh = mask.astype('uint8')\n",
    "    contours, _ = cv2.findContours(thresh, cv2.RETR_EXTERNAL, cv2.CHAIN_APPROX_NONE)\n",
    "    return contours[0] #there should be only one contour\n",
    "\n",
    "def roi_from_contour(name, cnt):\n",
    "    x = cnt[:,0,0]\n",
    "    y = cnt[:,0,1]\n",
    "    dict_data = {\n",
    "        'type':'freehand',\n",
    "        'x': list(x),\n",
    "        'y': list(y),\n",
    "        'n':len(x),\n",
    "        'width':0,\n",
    "        'name':name,\n",
    "        'position':0\n",
    "    }\n",
    "    roi = { name : dict_data }\n",
    "    return(roi)\n",
    "\n",
    "# TO DO\n",
    "# def create_roi_file(roi):\n",
    "# see file format https://imagej.nih.gov/ij/developer/source/ij/io/RoiDecoder.java.html\n",
    "    "
   ]
  },
  {
   "cell_type": "code",
   "execution_count": 26,
   "metadata": {},
   "outputs": [],
   "source": [
    "import skimage.io\n",
    "DIR = 'C:\\\\Users\\\\Fred\\\\Downloads/'\n",
    "mask = skimage.io.imread(DIR+'R29 VEGF 2_15.0xC3-5.png')"
   ]
  },
  {
   "cell_type": "code",
   "execution_count": 27,
   "metadata": {},
   "outputs": [],
   "source": [
    "roi1 = roi_from_contour('R29 VEGF 2_15.0xC3-5',contour_from_mask(mask))"
   ]
  },
  {
   "cell_type": "code",
   "execution_count": 28,
   "metadata": {
    "scrolled": true
   },
   "outputs": [
    {
     "data": {
      "image/png": "[encoded data removed]",
      "text/plain": [
       "<Figure size 432x288 with 1 Axes>"
      ]
     },
     "metadata": {
      "needs_background": "light"
     },
     "output_type": "display_data"
    }
   ],
   "source": [
    "import matplotlib.pyplot as plt\n",
    "for name in roi1:\n",
    "    plt.plot(roi1[name]['x'],roi1[name]['y'])"
   ]
  },
  {
   "cell_type": "code",
   "execution_count": 123,
   "metadata": {},
   "outputs": [],
   "source": [
    "def roi_save(roi,dir_path):\n",
    "# inspired from https://gist.github.com/dabasler/c4b885164db5c845cd20688f4a00cab0\n",
    "\n",
    "    for name in roi:\n",
    "        n = roi[name]['n'] # number of points\n",
    "        x = roi[name]['x'] # x coordinates\n",
    "        y = roi[name]['y'] # y coordinates\n",
    "    \n",
    "    x = [int(xi) for xi in x] # make sure that x is a list of python int type (not numpy.int type)\n",
    "    y = [int(yi) for yi in y] # make sure that x is a list of python int type (not numpy.int type)\n",
    "        \n",
    "    data=bytearray()       # file buffer\n",
    "\n",
    "    # HEADER 1\n",
    "    data += \"Iout\".encode()         # file always starts with 'Iout'\n",
    "    data += (227).to_bytes(2,'big') # (int16) version number = 227\n",
    "    data += (7).to_bytes(1,'big')   # (int8) type of roi - 7 means 'freehand' \n",
    "    data += (0).to_bytes(1,'big')   # (int8) code for subtype - 0 here\n",
    "    top = min(y)                    # need to convert to python int because numpy int doesn't work with to_bytes\n",
    "    data += (top).to_bytes(2,'big') # (int16) lower y coordinates\n",
    "    left = min(x)\n",
    "    data += (left).to_bytes(2,'big')# (int16) lower x coordinates\n",
    "    bottom = max(y)\n",
    "    data += (bottom).to_bytes(2,'big')# (int16) upper y coordinates\n",
    "    right = max(x)\n",
    "    data += (right).to_bytes(2,'big') # (int16) upper x coordinates\n",
    "    data += n.to_bytes(2,'big')     # (int16) total number of coordinates\n",
    "    for i in range(42):             # unused bytes\n",
    "        data += b'\\x00'\n",
    "    h2offset_index = len(data)\n",
    "    data += (0).to_bytes(4,'big')   # (int32) header2 offset - set to 0 for now, will change at the end\n",
    "\n",
    "    # COORDINATES\n",
    "    for x_i in x: # (int16) array of x coordinates, with offset\n",
    "        data += (x_i - left).to_bytes(2,'big')\n",
    "    for y_i in y: # (int16) array of y coordinates, with offset\n",
    "        data += (y_i - top).to_bytes(2,'big')\n",
    "\n",
    "    # HEADER2\n",
    "    h2offset = len(data)\n",
    "    for i in range(16):             # header2 start and C,Z,T positions - unused bytes\n",
    "        data += b'\\x00'\n",
    "    nameoffset_index = len(data)\n",
    "    data += (0).to_bytes(4,'big')   # (int32) name offset - set to 0 for now, will change at the end\n",
    "    data += (len(name)).to_bytes(4,'big')  # (int32) name length\n",
    "    for i in range(40):             # unused bytes\n",
    "        data += b'\\x00'\n",
    "\n",
    "    # FILE NAME\n",
    "    nameoffset = len(data)\n",
    "    for c in name:                  # name of the roi file, encoded every other byte\n",
    "        data += b'\\x00' + c.encode()\n",
    "    \n",
    "    # write offsets retrospectively\n",
    "    data[h2offset_index:h2offset_index+4]=(h2offset).to_bytes(4,'big')\n",
    "    data[nameoffset_index:nameoffset_index+4]=(nameoffset).to_bytes(4,'big')\n",
    "\n",
    "    with open(os.path.join(dir_path,name+'.roi'), \"wb\") as file:\n",
    "        file.write(data)"
   ]
  },
  {
   "cell_type": "code",
   "execution_count": 128,
   "metadata": {},
   "outputs": [],
   "source": [
    "import skimage.io\n",
    "import os\n",
    "DIR = 'C:\\\\Users\\\\Fred\\\\Downloads/'\n",
    "for i in range(9):\n",
    "    mask = skimage.io.imread(DIR+'R29 VEGF 2_15.0xC3-'+str(i)+'.png')\n",
    "    roi = roi_from_contour('R29 VEGF 2_15.0xC3-'+str(i),contour_from_mask(mask))\n",
    "    roi_save(roi,DIR)"
   ]
  }
 ],
 "metadata": {
  "kernelspec": {
   "display_name": "Python 3",
   "language": "python",
   "name": "python3"
  },
  "language_info": {
   "codemirror_mode": {
    "name": "ipython",
    "version": 3
   },
   "file_extension": ".py",
   "mimetype": "text/x-python",
   "name": "python",
   "nbconvert_exporter": "python",
   "pygments_lexer": "ipython3",
   "version": "3.6.9"
  }
 },
 "nbformat": 4,
 "nbformat_minor": 2
}
